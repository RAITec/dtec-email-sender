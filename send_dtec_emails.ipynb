{
 "cells": [
  {
   "cell_type": "code",
   "execution_count": 7,
   "id": "30b18f78-50ef-4a7a-b6dc-f7b7bdd46464",
   "metadata": {},
   "outputs": [],
   "source": [
    "import os\n",
    "import pickle"
   ]
  },
  {
   "cell_type": "code",
   "execution_count": 8,
   "id": "053f1656-380f-4f7b-80a4-8f793bccb598",
   "metadata": {},
   "outputs": [],
   "source": [
    "# gmail api utils\n",
    "from googleapiclient.discovery import build\n",
    "from google_auth_oauthlib.flow import InstalledAppFlow\n",
    "from google.auth.transport.requests import Request"
   ]
  },
  {
   "cell_type": "code",
   "execution_count": 9,
   "id": "12bc0c4c-d06d-4dc2-b39a-64266adad801",
   "metadata": {},
   "outputs": [],
   "source": [
    "# for encoding/decoding messages in base64\n",
    "from base64 import urlsafe_b64decode, urlsafe_b64encode"
   ]
  },
  {
   "cell_type": "code",
   "execution_count": 10,
   "id": "09d321d8-fbac-476e-99bb-4929e4e7fb84",
   "metadata": {},
   "outputs": [],
   "source": [
    "# for dealing with attachement MIME types\n",
    "from email.mime.text import MIMEText\n",
    "from email.mime.multipart import MIMEMultipart\n",
    "from email.mime.image import MIMEImage\n",
    "from email.mime.audio import MIMEAudio\n",
    "from email.mime.base import MIMEBase\n",
    "from mimetypes import guess_type as guess_mime_type"
   ]
  },
  {
   "cell_type": "code",
   "execution_count": 11,
   "id": "14e014b3-5f91-4e3d-a09f-b0f6877ccee7",
   "metadata": {},
   "outputs": [],
   "source": [
    "# request all email permissions\n",
    "SCOPES = ['https://mail.google.com/']\n",
    "our_email = 'raitec@dee.ufc.br'"
   ]
  },
  {
   "cell_type": "code",
   "execution_count": 12,
   "id": "7d00b322-12b7-41cd-b6e6-77b32b963938",
   "metadata": {},
   "outputs": [
    {
     "name": "stdout",
     "output_type": "stream",
     "text": [
      "Please visit this URL to authorize this application: https://accounts.google.com/o/oauth2/auth?response_type=code&client_id=146723282850-64198rf9a0g17tbsdcu54urb0u4hdppa.apps.googleusercontent.com&redirect_uri=http%3A%2F%2Flocalhost%3A58751%2F&scope=https%3A%2F%2Fmail.google.com%2F&state=HJg1HDprNStMpq4YCMD0UckHYo4f76&access_type=offline\n"
     ]
    }
   ],
   "source": [
    "# function to load credentials.txt\n",
    "def gmail_authenticate():\n",
    "    creds = None\n",
    "    # the file token.pickle stores the user's access and refresh tokens, and is\n",
    "    # created automatically when the authorization flow completes for the first time\n",
    "    if os.path.exists(\"token.pickle\"):\n",
    "        with open(\"token.pickle\", \"rb\") as token:\n",
    "            creds = pickle.load(token)\n",
    "    # if there are no (valid) credentials availablle, let the user log in.\n",
    "    if not creds or not creds.valid:\n",
    "        if creds and creds.expired and creds.refresh_token:\n",
    "            creds.refresh(Request())\n",
    "        else:\n",
    "            flow = InstalledAppFlow.from_client_secrets_file('credentials.json', SCOPES)\n",
    "            creds = flow.run_local_server(port=0)\n",
    "        # save the credentials for the next run\n",
    "        with open(\"token.pickle\", \"wb\") as token:\n",
    "            pickle.dump(creds, token)\n",
    "    return build('gmail', 'v1', credentials=creds)\n",
    "\n",
    "# get the Gmail API service\n",
    "service = gmail_authenticate()"
   ]
  },
  {
   "cell_type": "code",
   "execution_count": 13,
   "id": "6e53a29f-c214-4817-a9ac-8cf6725b22ca",
   "metadata": {},
   "outputs": [],
   "source": [
    "# Adds the attachment with the given filename to the given message\n",
    "def add_attachment(message, filename):\n",
    "    content_type, encoding = guess_mime_type(filename)\n",
    "    if content_type is None or encoding is not None:\n",
    "        content_type = 'application/octet-stream'\n",
    "    main_type, sub_type = content_type.split('/', 1)\n",
    "    if main_type == 'text':\n",
    "        fp = open(filename, 'rb')\n",
    "        msg = MIMEText(fp.read().decode(), _subtype=sub_type)\n",
    "        fp.close()\n",
    "    elif main_type == 'image':\n",
    "        fp = open(filename, 'rb')\n",
    "        msg = MIMEImage(fp.read(), _subtype=sub_type)\n",
    "        fp.close()\n",
    "    elif main_type == 'audio':\n",
    "        fp = open(filename, 'rb')\n",
    "        msg = MIMEAudio(fp.read(), _subtype=sub_type)\n",
    "        fp.close()\n",
    "    else:\n",
    "        fp = open(filename, 'rb')\n",
    "        msg = MIMEBase(main_type, sub_type)\n",
    "        msg.set_payload(fp.read())\n",
    "        fp.close()\n",
    "    filename = os.path.basename(filename)\n",
    "    msg.add_header('Content-Disposition', 'attachment', filename=filename)\n",
    "    message.attach(msg)"
   ]
  },
  {
   "cell_type": "code",
   "execution_count": 14,
   "id": "403e7b7e-f31e-467e-b207-054decade3f8",
   "metadata": {},
   "outputs": [],
   "source": [
    "# function that takes some parameters and builds email message\n",
    "def build_message(destination, obj, body, attachments=[]):\n",
    "    if not attachments: # no attachments given\n",
    "        message = MIMEText(body)\n",
    "        message['to'] = destination\n",
    "        message['from'] = our_email\n",
    "        message['subject'] = obj\n",
    "    else:\n",
    "        message = MIMEMultipart()\n",
    "        message['to'] = destination\n",
    "        message['from'] = our_email\n",
    "        message['subject'] = obj\n",
    "        message.attach(MIMEText(body))\n",
    "        for filename in attachments:\n",
    "            add_attachment(message, filename)\n",
    "    return {'raw': urlsafe_b64encode(message.as_bytes()).decode()}"
   ]
  },
  {
   "cell_type": "code",
   "execution_count": 15,
   "id": "d0a163c6-f3da-4d78-a5bd-69194f1c634a",
   "metadata": {},
   "outputs": [],
   "source": [
    "# function that sends the message\n",
    "def send_message(service, destination, obj, body, attachments=[]):\n",
    "    return service.users().messages().send(\n",
    "      userId=\"me\",\n",
    "      body=build_message(destination, obj, body, attachments)\n",
    "    ).execute()"
   ]
  },
  {
   "cell_type": "markdown",
   "id": "9bc32f40-35d0-4213-a4cf-e91a4ab16f05",
   "metadata": {},
   "source": [
    "Now, we're done setting up Gmail API. Let's start the second part by reading a Google Sheet that will contain the schools' name and email"
   ]
  },
  {
   "cell_type": "code",
   "execution_count": 18,
   "id": "9ec2573f-018a-460f-bd52-95de066f1284",
   "metadata": {},
   "outputs": [
    {
     "data": {
      "text/html": [
       "<div>\n",
       "<style scoped>\n",
       "    .dataframe tbody tr th:only-of-type {\n",
       "        vertical-align: middle;\n",
       "    }\n",
       "\n",
       "    .dataframe tbody tr th {\n",
       "        vertical-align: top;\n",
       "    }\n",
       "\n",
       "    .dataframe thead th {\n",
       "        text-align: right;\n",
       "    }\n",
       "</style>\n",
       "<table border=\"1\" class=\"dataframe\">\n",
       "  <thead>\n",
       "    <tr style=\"text-align: right;\">\n",
       "      <th></th>\n",
       "      <th>nome</th>\n",
       "      <th>e-mail</th>\n",
       "    </tr>\n",
       "  </thead>\n",
       "  <tbody>\n",
       "    <tr>\n",
       "      <th>0</th>\n",
       "      <td>Leonardo</td>\n",
       "      <td>leonardodayvison235@gmail.com</td>\n",
       "    </tr>\n",
       "    <tr>\n",
       "      <th>1</th>\n",
       "      <td>Nataniel</td>\n",
       "      <td>natanielmarques@alu.ufc.br</td>\n",
       "    </tr>\n",
       "    <tr>\n",
       "      <th>2</th>\n",
       "      <td>Davi</td>\n",
       "      <td>david.jesseh@alu.ufc.br</td>\n",
       "    </tr>\n",
       "    <tr>\n",
       "      <th>3</th>\n",
       "      <td>Maria Paula</td>\n",
       "      <td>mariapaulamesquita@alu.ufc.br</td>\n",
       "    </tr>\n",
       "  </tbody>\n",
       "</table>\n",
       "</div>"
      ],
      "text/plain": [
       "          nome                         e-mail\n",
       "0     Leonardo  leonardodayvison235@gmail.com\n",
       "1     Nataniel     natanielmarques@alu.ufc.br\n",
       "2         Davi        david.jesseh@alu.ufc.br\n",
       "3  Maria Paula  mariapaulamesquita@alu.ufc.br"
      ]
     },
     "execution_count": 18,
     "metadata": {},
     "output_type": "execute_result"
    }
   ],
   "source": [
    "import pandas as pd\n",
    "\n",
    "filepath = \"https://docs.google.com/spreadsheets/d/1QKThZF7CxoHhdp4HNj1gjJOb0YfsUj2BEeY0-2PlJi0/export?format=csv&gid=0\"\n",
    "\n",
    "contact_list = pd.read_csv(filepath)\n",
    "contact_list"
   ]
  },
  {
   "cell_type": "code",
   "execution_count": 23,
   "id": "6dbe5c23-9d99-4139-a007-9fd6ac85e4fd",
   "metadata": {},
   "outputs": [],
   "source": [
    "def send_single_email(row):\n",
    "    email_body = \"Olá, {}! Muito obrigado por verificar o e-mail. Espero que isso esteja mesmo funcionando, pq acho que, se der errado, eu vou ter um treco.\".format(row['nome'])\n",
    "    \n",
    "    send_message(service, row['e-mail'], \"Teste de mensagem automática do DTEC\", \n",
    "                 email_body, ['assinatura_dtec.png'])"
   ]
  },
  {
   "cell_type": "code",
   "execution_count": 30,
   "id": "a05cecdf-2f43-4e0a-9fd0-f967190c7415",
   "metadata": {},
   "outputs": [],
   "source": [
    "import time \n",
    "\n",
    "def send_all_emails(df):\n",
    "    for _, row in df.iterrows():\n",
    "        try:\n",
    "            send_single_email(row)\n",
    "            time.sleep(2)\n",
    "        except Exception as e:\n",
    "            print(f\"Error trying to send message to {row['e-mail']}: {e}\")"
   ]
  },
  {
   "cell_type": "markdown",
   "id": "3d56fa94-0f7b-4b23-a40c-7d9b80a89c2a",
   "metadata": {},
   "source": [
    "IT'S THE TRUTH TIME GUYS"
   ]
  },
  {
   "cell_type": "code",
   "execution_count": 32,
   "id": "e20408af-bedc-4b8f-b654-41338b87a240",
   "metadata": {},
   "outputs": [],
   "source": [
    "# uncomment the code below and run this cell to send email to all people up there on the contact sheet\n",
    "\n",
    "#send_all_emails(contact_list)"
   ]
  }
 ],
 "metadata": {
  "kernelspec": {
   "display_name": "emails_dtec",
   "language": "python",
   "name": "meu_env"
  },
  "language_info": {
   "codemirror_mode": {
    "name": "ipython",
    "version": 3
   },
   "file_extension": ".py",
   "mimetype": "text/x-python",
   "name": "python",
   "nbconvert_exporter": "python",
   "pygments_lexer": "ipython3",
   "version": "3.13.5"
  }
 },
 "nbformat": 4,
 "nbformat_minor": 5
}
